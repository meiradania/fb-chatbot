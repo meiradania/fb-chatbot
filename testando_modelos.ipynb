{
 "cells": [
  {
   "cell_type": "code",
   "execution_count": 6,
   "metadata": {
    "collapsed": false
   },
   "outputs": [],
   "source": [
    "import gensim.models as gsm\n",
    "\n",
    "w2v = gsm.KeyedVectors.load_word2vec_format('resources/GoogleNews-vectors-negative300.bin.gz', binary=True)\n",
    "e2v = gsm.KeyedVectors.load_word2vec_format('../emoji2vec/pre-trained/emoji2vec.bin', binary=True)"
   ]
  },
  {
   "cell_type": "code",
   "execution_count": null,
   "metadata": {
    "collapsed": true
   },
   "outputs": [],
   "source": [
    "w2v.most_similar(positive=['woman', 'king'], negative=['man'], topn=1)\n",
    "#[('queen', 0.50882536)]"
   ]
  },
  {
   "cell_type": "code",
   "execution_count": null,
   "metadata": {
    "collapsed": true
   },
   "outputs": [],
   "source": [
    "model.doesnt_match(\"breakfast cereal dinner lunch\";.split())\n",
    "#'cereal'"
   ]
  },
  {
   "cell_type": "code",
   "execution_count": null,
   "metadata": {
    "collapsed": true
   },
   "outputs": [],
   "source": [
    "model.similarity('woman', 'man')\n",
    "#0.73723527"
   ]
  },
  {
   "cell_type": "code",
   "execution_count": null,
   "metadata": {
    "collapsed": true
   },
   "outputs": [],
   "source": [
    "#emoji2vec : https://github.com/uclmr/emoji2vec\n",
    "\n",
    "import gensim.models as gsm\n",
    "#happy_vector = \n",
    "e2v['😂']    \n",
    "# Produces an embedding vector of length 300"
   ]
  },
  {
   "cell_type": "code",
   "execution_count": null,
   "metadata": {
    "collapsed": true
   },
   "outputs": [],
   "source": [
    "# https://medium.com/@mikraig/emoji2costume-how-warby-parker-used-machine-learning-to-recommend-halloween-costumes-55c52a6e70ba\n",
    "\n",
    "# get data\n",
    "# tokenize\n",
    "# map all tokens to w2v 300d vector\n",
    "# average of the 300d vectors of the movie = 1 300d vector\n",
    "# emoj to e2v 300d vector\n",
    "# average of all the vectors\n",
    "# for similar movie"
   ]
  }
 ],
 "metadata": {
  "anaconda-cloud": {},
  "kernelspec": {
   "display_name": "Python [conda env:test-bot]",
   "language": "python",
   "name": "conda-env-test-bot-py"
  },
  "language_info": {
   "codemirror_mode": {
    "name": "ipython",
    "version": 2
   },
   "file_extension": ".py",
   "mimetype": "text/x-python",
   "name": "python",
   "nbconvert_exporter": "python",
   "pygments_lexer": "ipython2",
   "version": "2.7.14"
  }
 },
 "nbformat": 4,
 "nbformat_minor": 1
}
